{
 "cells": [
  {
   "cell_type": "markdown",
   "metadata": {
    "id": "0_9NI7LdE8Q3"
   },
   "source": [
    "- 47%\n",
    "- Missing data files"
   ]
  },
  {
   "cell_type": "code",
   "execution_count": 1,
   "metadata": {
    "colab": {
     "base_uri": "https://localhost:8080/"
    },
    "executionInfo": {
     "elapsed": 29710,
     "status": "ok",
     "timestamp": 1607761683565,
     "user": {
      "displayName": "Vidushi Mishra",
      "photoUrl": "",
      "userId": "10528386041736211861"
     },
     "user_tz": 300
    },
    "id": "2LGeJcVdPSe9",
    "outputId": "f9f666f3-458c-415a-9575-1d9c0bf810f8"
   },
   "outputs": [
    {
     "name": "stdout",
     "output_type": "stream",
     "text": [
      "Collecting pyspark\n",
      "  Downloading https://files.pythonhosted.org/packages/f0/26/198fc8c0b98580f617cb03cb298c6056587b8f0447e20fa40c5b634ced77/pyspark-3.0.1.tar.gz (204.2MB)\n",
      "Collecting py4j==0.10.9\n",
      "  Downloading https://files.pythonhosted.org/packages/9e/b6/6a4fb90cd235dc8e265a6a2067f2a2c99f0d91787f06aca4bcf7c23f3f80/py4j-0.10.9-py2.py3-none-any.whl (198kB)\n",
      "Building wheels for collected packages: pyspark\n",
      "  Building wheel for pyspark (setup.py): started\n",
      "  Building wheel for pyspark (setup.py): finished with status 'done'\n",
      "  Created wheel for pyspark: filename=pyspark-3.0.1-py2.py3-none-any.whl size=204612243 sha256=e207dfb7ee04ca86210a6f9028d6e6838eb3fa5cdb43947c3822d690ccfec011\n",
      "  Stored in directory: /root/.cache/pip/wheels/5e/bd/07/031766ca628adec8435bb40f0bd83bb676ce65ff4007f8e73f\n",
      "Successfully built pyspark\n",
      "Installing collected packages: py4j, pyspark\n",
      "Successfully installed py4j-0.10.9 pyspark-3.0.1\n"
     ]
    }
   ],
   "source": [
    "%%bash\n",
    "# Do not change or modify this file\n",
    "# Need to install pyspark\n",
    "# if pyspark is already installed, will print a message indicating pyspark already isntalled\n",
    "pip install pyspark\n"
   ]
  },
  {
   "cell_type": "code",
   "execution_count": 2,
   "metadata": {
    "executionInfo": {
     "elapsed": 37224,
     "status": "ok",
     "timestamp": 1607761691082,
     "user": {
      "displayName": "Vidushi Mishra",
      "photoUrl": "",
      "userId": "10528386041736211861"
     },
     "user_tz": 300
    },
    "id": "J6vQAd5YSPij"
   },
   "outputs": [],
   "source": [
    "from pyspark.sql import SparkSession\n",
    "from pyspark.sql import SQLContext\n",
    "spark = SparkSession.builder\\\n",
    "  .master(\"local[*]\")\\\n",
    "  .config(\"spark.memory.fraction\", 0.8)\\\n",
    "  .config(\"spark.executor.memory\", \"12g\")\\\n",
    "  .config(\"spark.driver.memory\", \"12g\")\\\n",
    "  .config(\"spark.memory.offHeap.enabled\",'true')\\\n",
    "  .config(\"spark.memory.offHeap.size\",\"12g\")\\\n",
    "  .getOrCreate()\n",
    "sc = spark.sparkContext\n",
    "sqlContext = SQLContext(sc)"
   ]
  },
  {
   "cell_type": "code",
   "execution_count": 3,
   "metadata": {
    "executionInfo": {
     "elapsed": 37223,
     "status": "ok",
     "timestamp": 1607761691083,
     "user": {
      "displayName": "Vidushi Mishra",
      "photoUrl": "",
      "userId": "10528386041736211861"
     },
     "user_tz": 300
    },
    "id": "er9-9Phk2PzX"
   },
   "outputs": [],
   "source": [
    "from pyspark.sql.functions import isnan, isnull, when, count, col\n",
    "import pandas as pd\n",
    "from pyspark.sql.functions import col\n",
    "import pyspark.sql.functions as fn\n",
    "import seaborn as sns\n",
    "import matplotlib.pyplot as plt\n",
    "import pandas as pd\n",
    "from pyspark.sql.functions import isnan, isnull, when, count, col"
   ]
  },
  {
   "cell_type": "code",
   "execution_count": 4,
   "metadata": {
    "colab": {
     "base_uri": "https://localhost:8080/",
     "height": 286
    },
    "executionInfo": {
     "elapsed": 39028,
     "status": "error",
     "timestamp": 1607761692890,
     "user": {
      "displayName": "Vidushi Mishra",
      "photoUrl": "",
      "userId": "10528386041736211861"
     },
     "user_tz": 300
    },
    "id": "vzOeySHjSQPI",
    "outputId": "0af44769-5d65-4553-cef9-9c85536d9297"
   },
   "outputs": [
    {
     "ename": "AnalysisException",
     "evalue": "ignored",
     "output_type": "error",
     "traceback": [
      "\u001b[0;31m---------------------------------------------------------------------------\u001b[0m",
      "\u001b[0;31mAnalysisException\u001b[0m                         Traceback (most recent call last)",
      "\u001b[0;32m<ipython-input-4-58c692acf5c7>\u001b[0m in \u001b[0;36m<module>\u001b[0;34m()\u001b[0m\n\u001b[0;32m----> 1\u001b[0;31m \u001b[0mdata_df\u001b[0m \u001b[0;34m=\u001b[0m \u001b[0mspark\u001b[0m\u001b[0;34m.\u001b[0m\u001b[0mread\u001b[0m\u001b[0;34m.\u001b[0m\u001b[0moption\u001b[0m\u001b[0;34m(\u001b[0m\u001b[0;34m\"header\"\u001b[0m\u001b[0;34m,\u001b[0m\u001b[0;32mTrue\u001b[0m\u001b[0;34m)\u001b[0m\u001b[0;34m.\u001b[0m\u001b[0mcsv\u001b[0m\u001b[0;34m(\u001b[0m\u001b[0;34m\"data.csv\"\u001b[0m\u001b[0;34m)\u001b[0m\u001b[0;34m\u001b[0m\u001b[0;34m\u001b[0m\u001b[0m\n\u001b[0m\u001b[1;32m      2\u001b[0m \u001b[0martist_df\u001b[0m \u001b[0;34m=\u001b[0m \u001b[0mspark\u001b[0m\u001b[0;34m.\u001b[0m\u001b[0mread\u001b[0m\u001b[0;34m.\u001b[0m\u001b[0moption\u001b[0m\u001b[0;34m(\u001b[0m\u001b[0;34m\"header\"\u001b[0m\u001b[0;34m,\u001b[0m\u001b[0;32mTrue\u001b[0m\u001b[0;34m)\u001b[0m\u001b[0;34m.\u001b[0m\u001b[0mcsv\u001b[0m\u001b[0;34m(\u001b[0m\u001b[0;34m\"data_by_artist.csv\"\u001b[0m\u001b[0;34m)\u001b[0m\u001b[0;34m\u001b[0m\u001b[0;34m\u001b[0m\u001b[0m\n\u001b[1;32m      3\u001b[0m \u001b[0mgenres_df\u001b[0m \u001b[0;34m=\u001b[0m \u001b[0mspark\u001b[0m\u001b[0;34m.\u001b[0m\u001b[0mread\u001b[0m\u001b[0;34m.\u001b[0m\u001b[0moption\u001b[0m\u001b[0;34m(\u001b[0m\u001b[0;34m\"header\"\u001b[0m\u001b[0;34m,\u001b[0m\u001b[0;32mTrue\u001b[0m\u001b[0;34m)\u001b[0m\u001b[0;34m.\u001b[0m\u001b[0mcsv\u001b[0m\u001b[0;34m(\u001b[0m\u001b[0;34m\"data_by_genres.csv\"\u001b[0m\u001b[0;34m)\u001b[0m\u001b[0;34m\u001b[0m\u001b[0;34m\u001b[0m\u001b[0m\n\u001b[1;32m      4\u001b[0m \u001b[0myear_df\u001b[0m \u001b[0;34m=\u001b[0m \u001b[0mspark\u001b[0m\u001b[0;34m.\u001b[0m\u001b[0mread\u001b[0m\u001b[0;34m.\u001b[0m\u001b[0moption\u001b[0m\u001b[0;34m(\u001b[0m\u001b[0;34m\"header\"\u001b[0m\u001b[0;34m,\u001b[0m\u001b[0;32mTrue\u001b[0m\u001b[0;34m)\u001b[0m\u001b[0;34m.\u001b[0m\u001b[0mcsv\u001b[0m\u001b[0;34m(\u001b[0m\u001b[0;34m\"data_by_year.csv\"\u001b[0m\u001b[0;34m)\u001b[0m\u001b[0;34m\u001b[0m\u001b[0;34m\u001b[0m\u001b[0m\n\u001b[1;32m      5\u001b[0m \u001b[0mwgenres_df\u001b[0m \u001b[0;34m=\u001b[0m \u001b[0mspark\u001b[0m\u001b[0;34m.\u001b[0m\u001b[0mread\u001b[0m\u001b[0;34m.\u001b[0m\u001b[0moption\u001b[0m\u001b[0;34m(\u001b[0m\u001b[0;34m\"header\"\u001b[0m\u001b[0;34m,\u001b[0m\u001b[0;32mTrue\u001b[0m\u001b[0;34m)\u001b[0m\u001b[0;34m.\u001b[0m\u001b[0mcsv\u001b[0m\u001b[0;34m(\u001b[0m\u001b[0;34m\"data_w_genres.csv\"\u001b[0m\u001b[0;34m)\u001b[0m\u001b[0;34m\u001b[0m\u001b[0;34m\u001b[0m\u001b[0m\n",
      "\u001b[0;32m/usr/local/lib/python3.6/dist-packages/pyspark/sql/readwriter.py\u001b[0m in \u001b[0;36mcsv\u001b[0;34m(self, path, schema, sep, encoding, quote, escape, comment, header, inferSchema, ignoreLeadingWhiteSpace, ignoreTrailingWhiteSpace, nullValue, nanValue, positiveInf, negativeInf, dateFormat, timestampFormat, maxColumns, maxCharsPerColumn, maxMalformedLogPerPartition, mode, columnNameOfCorruptRecord, multiLine, charToEscapeQuoteEscaping, samplingRatio, enforceSchema, emptyValue, locale, lineSep, pathGlobFilter, recursiveFileLookup)\u001b[0m\n\u001b[1;32m    533\u001b[0m             \u001b[0mpath\u001b[0m \u001b[0;34m=\u001b[0m \u001b[0;34m[\u001b[0m\u001b[0mpath\u001b[0m\u001b[0;34m]\u001b[0m\u001b[0;34m\u001b[0m\u001b[0;34m\u001b[0m\u001b[0m\n\u001b[1;32m    534\u001b[0m         \u001b[0;32mif\u001b[0m \u001b[0mtype\u001b[0m\u001b[0;34m(\u001b[0m\u001b[0mpath\u001b[0m\u001b[0;34m)\u001b[0m \u001b[0;34m==\u001b[0m \u001b[0mlist\u001b[0m\u001b[0;34m:\u001b[0m\u001b[0;34m\u001b[0m\u001b[0;34m\u001b[0m\u001b[0m\n\u001b[0;32m--> 535\u001b[0;31m             \u001b[0;32mreturn\u001b[0m \u001b[0mself\u001b[0m\u001b[0;34m.\u001b[0m\u001b[0m_df\u001b[0m\u001b[0;34m(\u001b[0m\u001b[0mself\u001b[0m\u001b[0;34m.\u001b[0m\u001b[0m_jreader\u001b[0m\u001b[0;34m.\u001b[0m\u001b[0mcsv\u001b[0m\u001b[0;34m(\u001b[0m\u001b[0mself\u001b[0m\u001b[0;34m.\u001b[0m\u001b[0m_spark\u001b[0m\u001b[0;34m.\u001b[0m\u001b[0m_sc\u001b[0m\u001b[0;34m.\u001b[0m\u001b[0m_jvm\u001b[0m\u001b[0;34m.\u001b[0m\u001b[0mPythonUtils\u001b[0m\u001b[0;34m.\u001b[0m\u001b[0mtoSeq\u001b[0m\u001b[0;34m(\u001b[0m\u001b[0mpath\u001b[0m\u001b[0;34m)\u001b[0m\u001b[0;34m)\u001b[0m\u001b[0;34m)\u001b[0m\u001b[0;34m\u001b[0m\u001b[0;34m\u001b[0m\u001b[0m\n\u001b[0m\u001b[1;32m    536\u001b[0m         \u001b[0;32melif\u001b[0m \u001b[0misinstance\u001b[0m\u001b[0;34m(\u001b[0m\u001b[0mpath\u001b[0m\u001b[0;34m,\u001b[0m \u001b[0mRDD\u001b[0m\u001b[0;34m)\u001b[0m\u001b[0;34m:\u001b[0m\u001b[0;34m\u001b[0m\u001b[0;34m\u001b[0m\u001b[0m\n\u001b[1;32m    537\u001b[0m             \u001b[0;32mdef\u001b[0m \u001b[0mfunc\u001b[0m\u001b[0;34m(\u001b[0m\u001b[0miterator\u001b[0m\u001b[0;34m)\u001b[0m\u001b[0;34m:\u001b[0m\u001b[0;34m\u001b[0m\u001b[0;34m\u001b[0m\u001b[0m\n",
      "\u001b[0;32m/usr/local/lib/python3.6/dist-packages/py4j/java_gateway.py\u001b[0m in \u001b[0;36m__call__\u001b[0;34m(self, *args)\u001b[0m\n\u001b[1;32m   1303\u001b[0m         \u001b[0manswer\u001b[0m \u001b[0;34m=\u001b[0m \u001b[0mself\u001b[0m\u001b[0;34m.\u001b[0m\u001b[0mgateway_client\u001b[0m\u001b[0;34m.\u001b[0m\u001b[0msend_command\u001b[0m\u001b[0;34m(\u001b[0m\u001b[0mcommand\u001b[0m\u001b[0;34m)\u001b[0m\u001b[0;34m\u001b[0m\u001b[0;34m\u001b[0m\u001b[0m\n\u001b[1;32m   1304\u001b[0m         return_value = get_return_value(\n\u001b[0;32m-> 1305\u001b[0;31m             answer, self.gateway_client, self.target_id, self.name)\n\u001b[0m\u001b[1;32m   1306\u001b[0m \u001b[0;34m\u001b[0m\u001b[0m\n\u001b[1;32m   1307\u001b[0m         \u001b[0;32mfor\u001b[0m \u001b[0mtemp_arg\u001b[0m \u001b[0;32min\u001b[0m \u001b[0mtemp_args\u001b[0m\u001b[0;34m:\u001b[0m\u001b[0;34m\u001b[0m\u001b[0;34m\u001b[0m\u001b[0m\n",
      "\u001b[0;32m/usr/local/lib/python3.6/dist-packages/pyspark/sql/utils.py\u001b[0m in \u001b[0;36mdeco\u001b[0;34m(*a, **kw)\u001b[0m\n\u001b[1;32m    132\u001b[0m                 \u001b[0;31m# Hide where the exception came from that shows a non-Pythonic\u001b[0m\u001b[0;34m\u001b[0m\u001b[0;34m\u001b[0m\u001b[0;34m\u001b[0m\u001b[0m\n\u001b[1;32m    133\u001b[0m                 \u001b[0;31m# JVM exception message.\u001b[0m\u001b[0;34m\u001b[0m\u001b[0;34m\u001b[0m\u001b[0;34m\u001b[0m\u001b[0m\n\u001b[0;32m--> 134\u001b[0;31m                 \u001b[0mraise_from\u001b[0m\u001b[0;34m(\u001b[0m\u001b[0mconverted\u001b[0m\u001b[0;34m)\u001b[0m\u001b[0;34m\u001b[0m\u001b[0;34m\u001b[0m\u001b[0m\n\u001b[0m\u001b[1;32m    135\u001b[0m             \u001b[0;32melse\u001b[0m\u001b[0;34m:\u001b[0m\u001b[0;34m\u001b[0m\u001b[0;34m\u001b[0m\u001b[0m\n\u001b[1;32m    136\u001b[0m                 \u001b[0;32mraise\u001b[0m\u001b[0;34m\u001b[0m\u001b[0;34m\u001b[0m\u001b[0m\n",
      "\u001b[0;32m/usr/local/lib/python3.6/dist-packages/pyspark/sql/utils.py\u001b[0m in \u001b[0;36mraise_from\u001b[0;34m(e)\u001b[0m\n",
      "\u001b[0;31mAnalysisException\u001b[0m: Path does not exist: file:/content/data.csv;"
     ]
    }
   ],
   "source": [
    "data_df = spark.read.option(\"header\",True).csv(\"data.csv\")\n",
    "artist_df = spark.read.option(\"header\",True).csv(\"data_by_artist.csv\")\n",
    "genres_df = spark.read.option(\"header\",True).csv(\"data_by_genres.csv\")\n",
    "year_df = spark.read.option(\"header\",True).csv(\"data_by_year.csv\") \n",
    "wgenres_df = spark.read.option(\"header\",True).csv(\"data_w_genres.csv\") "
   ]
  },
  {
   "cell_type": "markdown",
   "metadata": {
    "id": "it3dQXz6BdRg"
   },
   "source": [
    "ANALYSIS AND DATA CLEANING of DATA.CSV"
   ]
  },
  {
   "cell_type": "code",
   "execution_count": null,
   "metadata": {
    "executionInfo": {
     "elapsed": 38999,
     "status": "aborted",
     "timestamp": 1607761692868,
     "user": {
      "displayName": "Vidushi Mishra",
      "photoUrl": "",
      "userId": "10528386041736211861"
     },
     "user_tz": 300
    },
    "id": "usMglDK-WSMS"
   },
   "outputs": [],
   "source": [
    "display(data_df.toPandas().head())"
   ]
  },
  {
   "cell_type": "code",
   "execution_count": null,
   "metadata": {
    "executionInfo": {
     "elapsed": 38994,
     "status": "aborted",
     "timestamp": 1607761692869,
     "user": {
      "displayName": "Vidushi Mishra",
      "photoUrl": "",
      "userId": "10528386041736211861"
     },
     "user_tz": 300
    },
    "id": "n3c7zYg33L-E"
   },
   "outputs": [],
   "source": [
    "\n",
    "data_df.select([count(when(isnull(c), c)).alias(c) for c in data_df.columns]).show()\n",
    "data_df.select([count(when(isnan(c), c)).alias(c) for c in data_df.columns]).show()\n"
   ]
  },
  {
   "cell_type": "code",
   "execution_count": null,
   "metadata": {
    "executionInfo": {
     "elapsed": 38993,
     "status": "aborted",
     "timestamp": 1607761692870,
     "user": {
      "displayName": "Vidushi Mishra",
      "photoUrl": "",
      "userId": "10528386041736211861"
     },
     "user_tz": 300
    },
    "id": "GzsnhOwcp5AH"
   },
   "outputs": [],
   "source": [
    "data_df = data_df.dropDuplicates()\n",
    "types = [fn.dataType for fn in data_df.schema.fields]\n",
    "types\n",
    "\n",
    "#converting the duration in mins\n",
    "data_df=data_df.withColumn(\"duration_min\", (col(\"duration_ms\") /60000))\n",
    "data_df=data_df.withColumn(\"duration_min\", fn.round(data_df[\"duration_min\"], 2))\n",
    "data_df = data_df.drop(\"id\",\"release_date\",\"duration_ms\")\n"
   ]
  },
  {
   "cell_type": "code",
   "execution_count": null,
   "metadata": {
    "executionInfo": {
     "elapsed": 38987,
     "status": "aborted",
     "timestamp": 1607761692870,
     "user": {
      "displayName": "Vidushi Mishra",
      "photoUrl": "",
      "userId": "10528386041736211861"
     },
     "user_tz": 300
    },
    "id": "i6ttvD0fbVCr"
   },
   "outputs": [],
   "source": [
    "print((data_df.count(), len(data_df.columns)))"
   ]
  },
  {
   "cell_type": "code",
   "execution_count": null,
   "metadata": {
    "executionInfo": {
     "elapsed": 38986,
     "status": "aborted",
     "timestamp": 1607761692871,
     "user": {
      "displayName": "Vidushi Mishra",
      "photoUrl": "",
      "userId": "10528386041736211861"
     },
     "user_tz": 300
    },
    "id": "IKsGteq01Kdp"
   },
   "outputs": [],
   "source": [
    "#changing the datatype\n",
    "data_df = data_df.withColumn(\"acousticness\",data_df[\"acousticness\"].cast(\"float\"))\n",
    "data_df = data_df.withColumn(\"danceability\",data_df[\"danceability\"].cast(\"float\"))\n",
    "data_df = data_df.withColumn(\"energy\",data_df[\"energy\"].cast(\"float\"))\n",
    "data_df = data_df.withColumn(\"explicit\",data_df[\"explicit\"].cast(\"float\"))\n",
    "data_df = data_df.withColumn(\"instrumentalness\",data_df[\"instrumentalness\"].cast(\"float\"))\n",
    "data_df = data_df.withColumn(\"key\",data_df[\"key\"].cast(\"float\"))\n",
    "data_df = data_df.withColumn(\"liveness\",data_df[\"liveness\"].cast(\"float\"))\n",
    "data_df = data_df.withColumn(\"loudness\",data_df[\"loudness\"].cast(\"float\"))\n",
    "data_df = data_df.withColumn(\"mode\",data_df[\"mode\"].cast(\"float\"))\n",
    "data_df = data_df.withColumn(\"popularity\",data_df[\"popularity\"].cast(\"float\"))\n",
    "data_df = data_df.withColumn(\"speechiness\",data_df[\"speechiness\"].cast(\"float\"))\n",
    "data_df = data_df.withColumn(\"tempo\",data_df[\"tempo\"].cast(\"float\"))\n",
    "data_df = data_df.withColumn(\"valence\",data_df[\"valence\"].cast(\"float\"))\n",
    "data_df = data_df.withColumn(\"year\",data_df[\"year\"].cast(\"float\"))\n",
    "data_df = data_df.withColumn(\"duration_min\",data_df[\"duration_min\"].cast(\"float\"))"
   ]
  },
  {
   "cell_type": "markdown",
   "metadata": {
    "id": "ttI5Rc80QjE1"
   },
   "source": [
    "TIME ANALYSIS"
   ]
  },
  {
   "cell_type": "markdown",
   "metadata": {
    "id": "M-wpM4kBCjcL"
   },
   "source": [
    "DATA ANALYSIS AND DATA CLEANING OF DATA_BY_ARTIST.CSV\n"
   ]
  },
  {
   "cell_type": "code",
   "execution_count": null,
   "metadata": {
    "executionInfo": {
     "elapsed": 38981,
     "status": "aborted",
     "timestamp": 1607761692871,
     "user": {
      "displayName": "Vidushi Mishra",
      "photoUrl": "",
      "userId": "10528386041736211861"
     },
     "user_tz": 300
    },
    "id": "8ygkDY79-4zP"
   },
   "outputs": [],
   "source": [
    "display(artist_df.toPandas().head())"
   ]
  },
  {
   "cell_type": "code",
   "execution_count": null,
   "metadata": {
    "executionInfo": {
     "elapsed": 38976,
     "status": "aborted",
     "timestamp": 1607761692872,
     "user": {
      "displayName": "Vidushi Mishra",
      "photoUrl": "",
      "userId": "10528386041736211861"
     },
     "user_tz": 300
    },
    "id": "uKP2tNBJM3Gz"
   },
   "outputs": [],
   "source": [
    "artist_df.select([count(when(isnull(c), c)).alias(c) for c in artist_df.columns]).show()\n",
    "artist_df.select([count(when(isnan(c), c)).alias(c) for c in artist_df.columns]).show()"
   ]
  },
  {
   "cell_type": "code",
   "execution_count": null,
   "metadata": {
    "executionInfo": {
     "elapsed": 38970,
     "status": "aborted",
     "timestamp": 1607761692872,
     "user": {
      "displayName": "Vidushi Mishra",
      "photoUrl": "",
      "userId": "10528386041736211861"
     },
     "user_tz": 300
    },
    "id": "_Q-G0EB5ND9e"
   },
   "outputs": [],
   "source": [
    "artist_df.describe().show()"
   ]
  },
  {
   "cell_type": "code",
   "execution_count": null,
   "metadata": {
    "executionInfo": {
     "elapsed": 38970,
     "status": "aborted",
     "timestamp": 1607761692873,
     "user": {
      "displayName": "Vidushi Mishra",
      "photoUrl": "",
      "userId": "10528386041736211861"
     },
     "user_tz": 300
    },
    "id": "uAkNN9PSNRYR"
   },
   "outputs": [],
   "source": [
    "artist_df=artist_df.withColumn(\"duration_min\", (col(\"duration_ms\") /60000))\n",
    "artist_df=artist_df.withColumn(\"duration_min\", fn.round(artist_df[\"duration_min\"], 2))\n",
    "artist_df = artist_df.drop(\"duration_ms\")\n",
    "\n"
   ]
  },
  {
   "cell_type": "code",
   "execution_count": null,
   "metadata": {
    "executionInfo": {
     "elapsed": 38964,
     "status": "aborted",
     "timestamp": 1607761692873,
     "user": {
      "displayName": "Vidushi Mishra",
      "photoUrl": "",
      "userId": "10528386041736211861"
     },
     "user_tz": 300
    },
    "id": "kxXPiqEuN6ZR"
   },
   "outputs": [],
   "source": [
    "artist_df = artist_df.dropDuplicates()\n",
    "types = [fn.dataType for fn in artist_df.schema.fields]\n",
    "types"
   ]
  },
  {
   "cell_type": "code",
   "execution_count": null,
   "metadata": {
    "executionInfo": {
     "elapsed": 38964,
     "status": "aborted",
     "timestamp": 1607761692874,
     "user": {
      "displayName": "Vidushi Mishra",
      "photoUrl": "",
      "userId": "10528386041736211861"
     },
     "user_tz": 300
    },
    "id": "0KtCASE3HMts"
   },
   "outputs": [],
   "source": [
    "artist_df = artist_df.withColumn(\"acousticness\",artist_df[\"acousticness\"].cast(\"float\"))\n",
    "artist_df = artist_df.withColumn(\"danceability\",artist_df[\"danceability\"].cast(\"float\"))\n",
    "artist_df = artist_df.withColumn(\"energy\",artist_df[\"energy\"].cast(\"float\"))\n",
    "artist_df = artist_df.withColumn(\"instrumentalness\",artist_df[\"instrumentalness\"].cast(\"float\"))\n",
    "artist_df = artist_df.withColumn(\"key\",artist_df[\"key\"].cast(\"float\"))\n",
    "artist_df = artist_df.withColumn(\"liveness\",artist_df[\"liveness\"].cast(\"float\"))\n",
    "artist_df = artist_df.withColumn(\"loudness\",artist_df[\"loudness\"].cast(\"float\"))\n",
    "artist_df = artist_df.withColumn(\"mode\",artist_df[\"mode\"].cast(\"float\"))\n",
    "artist_df = artist_df.withColumn(\"popularity\",artist_df[\"popularity\"].cast(\"float\"))\n",
    "artist_df = artist_df.withColumn(\"speechiness\",artist_df[\"speechiness\"].cast(\"float\"))\n",
    "artist_df = artist_df.withColumn(\"tempo\",artist_df[\"tempo\"].cast(\"float\"))\n",
    "artist_df = artist_df.withColumn(\"valence\",artist_df[\"valence\"].cast(\"float\"))\n",
    "artist_df = artist_df.withColumn(\"count\",artist_df[\"count\"].cast(\"float\"))\n",
    "artist_df = artist_df.withColumn(\"duration_min\",artist_df[\"duration_min\"].cast(\"float\"))"
   ]
  },
  {
   "cell_type": "markdown",
   "metadata": {
    "id": "1d7Ew41bcXWM"
   },
   "source": [
    "ANALYSIS AND DATA CLEANING ON GENRE.CSV"
   ]
  },
  {
   "cell_type": "code",
   "execution_count": null,
   "metadata": {
    "executionInfo": {
     "elapsed": 38959,
     "status": "aborted",
     "timestamp": 1607761692874,
     "user": {
      "displayName": "Vidushi Mishra",
      "photoUrl": "",
      "userId": "10528386041736211861"
     },
     "user_tz": 300
    },
    "id": "htBS5yfmcj9n"
   },
   "outputs": [],
   "source": [
    "display(genres_df.toPandas().head())"
   ]
  },
  {
   "cell_type": "code",
   "execution_count": null,
   "metadata": {
    "executionInfo": {
     "elapsed": 38953,
     "status": "aborted",
     "timestamp": 1607761692874,
     "user": {
      "displayName": "Vidushi Mishra",
      "photoUrl": "",
      "userId": "10528386041736211861"
     },
     "user_tz": 300
    },
    "id": "xOsfVxRdxGMD"
   },
   "outputs": [],
   "source": [
    "#removing the invalid data\n",
    "genres_df = genres_df.withColumn('genres', when(col('genres') == '[]', None).otherwise(col('genres')))\n",
    "genres_df = genres_df.withColumn('genres', when(col('genres') == '432hz', None).otherwise(col('genres')))\n",
    "\n",
    "genres_df.select([count(when(isnull(c), c)).alias(c) for c in genres_df.columns]).show()\n",
    "genres_df.select([count(when(isnan(c), c)).alias(c) for c in genres_df.columns]).show()\n",
    "\n",
    "genres_df = genres_df.dropna(subset=['genres'])"
   ]
  },
  {
   "cell_type": "code",
   "execution_count": null,
   "metadata": {
    "executionInfo": {
     "elapsed": 38952,
     "status": "aborted",
     "timestamp": 1607761692875,
     "user": {
      "displayName": "Vidushi Mishra",
      "photoUrl": "",
      "userId": "10528386041736211861"
     },
     "user_tz": 300
    },
    "id": "0wSwF2yrkzI8"
   },
   "outputs": [],
   "source": [
    "genres_df=genres_df.withColumn(\"duration_min\", (col(\"duration_ms\") /60000))\n",
    "genres_df=genres_df.withColumn(\"duration_min\", fn.round(genres_df[\"duration_min\"], 2))\n",
    "genres_df = genres_df.drop(\"duration_ms\")\n"
   ]
  },
  {
   "cell_type": "code",
   "execution_count": null,
   "metadata": {
    "executionInfo": {
     "elapsed": 38947,
     "status": "aborted",
     "timestamp": 1607761692875,
     "user": {
      "displayName": "Vidushi Mishra",
      "photoUrl": "",
      "userId": "10528386041736211861"
     },
     "user_tz": 300
    },
    "id": "VUqStTBGlL83"
   },
   "outputs": [],
   "source": [
    "genres_df = genres_df.dropDuplicates()\n",
    "types = [fn.dataType for fn in genres_df.schema.fields]\n",
    "types"
   ]
  },
  {
   "cell_type": "code",
   "execution_count": null,
   "metadata": {
    "executionInfo": {
     "elapsed": 38947,
     "status": "aborted",
     "timestamp": 1607761692876,
     "user": {
      "displayName": "Vidushi Mishra",
      "photoUrl": "",
      "userId": "10528386041736211861"
     },
     "user_tz": 300
    },
    "id": "6kkhsfdE6QAo"
   },
   "outputs": [],
   "source": [
    "genres_df = genres_df.withColumn(\"acousticness\",genres_df[\"acousticness\"].cast(\"float\"))\n",
    "genres_df = genres_df.withColumn(\"danceability\",genres_df[\"danceability\"].cast(\"float\"))\n",
    "genres_df = genres_df.withColumn(\"energy\",genres_df[\"energy\"].cast(\"float\"))\n",
    "genres_df = genres_df.withColumn(\"instrumentalness\",genres_df[\"instrumentalness\"].cast(\"float\"))\n",
    "genres_df = genres_df.withColumn(\"liveness\",genres_df[\"liveness\"].cast(\"float\"))\n",
    "genres_df = genres_df.withColumn(\"loudness\",genres_df[\"loudness\"].cast(\"float\"))\n",
    "genres_df = genres_df.withColumn(\"mode\",genres_df[\"mode\"].cast(\"float\"))\n",
    "genres_df = genres_df.withColumn(\"popularity\",genres_df[\"popularity\"].cast(\"float\"))\n",
    "genres_df = genres_df.withColumn(\"speechiness\",genres_df[\"speechiness\"].cast(\"float\"))\n",
    "genres_df = genres_df.withColumn(\"tempo\",genres_df[\"tempo\"].cast(\"float\"))\n",
    "genres_df = genres_df.withColumn(\"valence\",genres_df[\"valence\"].cast(\"float\"))\n",
    "genres_df = genres_df.withColumn(\"duration_min\",genres_df[\"duration_min\"].cast(\"float\"))"
   ]
  },
  {
   "cell_type": "markdown",
   "metadata": {
    "id": "qzFJL3dtqcm0"
   },
   "source": [
    "ANALYSIS AND DATA CLEANING ON YEAR.CSV"
   ]
  },
  {
   "cell_type": "code",
   "execution_count": null,
   "metadata": {
    "executionInfo": {
     "elapsed": 38941,
     "status": "aborted",
     "timestamp": 1607761692876,
     "user": {
      "displayName": "Vidushi Mishra",
      "photoUrl": "",
      "userId": "10528386041736211861"
     },
     "user_tz": 300
    },
    "id": "SLR4skJqq0Jr"
   },
   "outputs": [],
   "source": [
    "display(year_df.toPandas().head())\n",
    "year_df.select([count(when(isnull(c), c)).alias(c) for c in year_df.columns]).show()\n",
    "year_df.select([count(when(isnan(c), c)).alias(c) for c in year_df.columns]).show()\n",
    "year_df=year_df.withColumn(\"duration_min\", (col(\"duration_ms\") /60000))\n",
    "year_df=year_df.withColumn(\"duration_min\", fn.round(year_df[\"duration_min\"], 2))\n",
    "year_df = year_df.drop(\"duration_ms\")"
   ]
  },
  {
   "cell_type": "code",
   "execution_count": null,
   "metadata": {
    "executionInfo": {
     "elapsed": 38939,
     "status": "aborted",
     "timestamp": 1607761692876,
     "user": {
      "displayName": "Vidushi Mishra",
      "photoUrl": "",
      "userId": "10528386041736211861"
     },
     "user_tz": 300
    },
    "id": "Ig4sKXZHsT5_"
   },
   "outputs": [],
   "source": [
    "year_df = year_df.dropDuplicates()\n",
    "types = [fn.dataType for fn in year_df.schema.fields]\n",
    "types"
   ]
  },
  {
   "cell_type": "code",
   "execution_count": null,
   "metadata": {
    "executionInfo": {
     "elapsed": 38937,
     "status": "aborted",
     "timestamp": 1607761692877,
     "user": {
      "displayName": "Vidushi Mishra",
      "photoUrl": "",
      "userId": "10528386041736211861"
     },
     "user_tz": 300
    },
    "id": "lE5Jz9UgICwu"
   },
   "outputs": [],
   "source": [
    "year_df = year_df.withColumn(\"acousticness\",year_df[\"acousticness\"].cast(\"float\"))\n",
    "year_df = year_df.withColumn(\"danceability\",year_df[\"danceability\"].cast(\"float\"))\n",
    "year_df = year_df.withColumn(\"energy\",year_df[\"energy\"].cast(\"float\"))\n",
    "year_df = year_df.withColumn(\"instrumentalness\",year_df[\"instrumentalness\"].cast(\"float\"))\n",
    "year_df = year_df.withColumn(\"liveness\",year_df[\"liveness\"].cast(\"float\"))\n",
    "year_df = year_df.withColumn(\"loudness\",year_df[\"loudness\"].cast(\"float\"))\n",
    "year_df = year_df.withColumn(\"mode\",year_df[\"mode\"].cast(\"float\"))\n",
    "year_df = year_df.withColumn(\"popularity\",year_df[\"popularity\"].cast(\"float\"))\n",
    "year_df = year_df.withColumn(\"speechiness\",year_df[\"speechiness\"].cast(\"float\"))\n",
    "year_df = year_df.withColumn(\"tempo\",year_df[\"tempo\"].cast(\"float\"))\n",
    "year_df = year_df.withColumn(\"valence\",year_df[\"valence\"].cast(\"float\"))\n",
    "year_df = year_df.withColumn(\"year\",year_df[\"year\"].cast(\"float\"))\n",
    "year_df = year_df.withColumn(\"duration_min\",year_df[\"duration_min\"].cast(\"float\"))"
   ]
  },
  {
   "cell_type": "markdown",
   "metadata": {
    "id": "lo_-8uCXJkto"
   },
   "source": [
    "ANALYSIS AND DATA CLEANING WGENRE.CSV"
   ]
  },
  {
   "cell_type": "code",
   "execution_count": null,
   "metadata": {
    "executionInfo": {
     "elapsed": 38936,
     "status": "aborted",
     "timestamp": 1607761692877,
     "user": {
      "displayName": "Vidushi Mishra",
      "photoUrl": "",
      "userId": "10528386041736211861"
     },
     "user_tz": 300
    },
    "id": "Hefo7RjhJqqn"
   },
   "outputs": [],
   "source": [
    "display(wgenres_df.toPandas().head())"
   ]
  },
  {
   "cell_type": "code",
   "execution_count": null,
   "metadata": {
    "executionInfo": {
     "elapsed": 38935,
     "status": "aborted",
     "timestamp": 1607761692878,
     "user": {
      "displayName": "Vidushi Mishra",
      "photoUrl": "",
      "userId": "10528386041736211861"
     },
     "user_tz": 300
    },
    "id": "GoZYPCIsJ6TT"
   },
   "outputs": [],
   "source": [
    "wgenres_df.select([count(when(isnull(c), c)).alias(c) for c in wgenres_df.columns]).show()\n",
    "wgenres_df.select([count(when(isnan(c), c)).alias(c) for c in wgenres_df.columns]).show()"
   ]
  },
  {
   "cell_type": "code",
   "execution_count": null,
   "metadata": {
    "executionInfo": {
     "elapsed": 38934,
     "status": "aborted",
     "timestamp": 1607761692878,
     "user": {
      "displayName": "Vidushi Mishra",
      "photoUrl": "",
      "userId": "10528386041736211861"
     },
     "user_tz": 300
    },
    "id": "kgY0TPECKJF6"
   },
   "outputs": [],
   "source": [
    "#wgenres_df=wgenres_df.withColumn(\"duration_min\", (col(\"duration_ms\") /60000))\n",
    "#wgenres_df=wgenres_df.withColumn(\"duration_min\", fn.round(wgenres_df[\"duration_min\"], 2))\n",
    "wgenres_df = wgenres_df.drop(\"duration_ms\")"
   ]
  },
  {
   "cell_type": "code",
   "execution_count": null,
   "metadata": {
    "executionInfo": {
     "elapsed": 38932,
     "status": "aborted",
     "timestamp": 1607761692878,
     "user": {
      "displayName": "Vidushi Mishra",
      "photoUrl": "",
      "userId": "10528386041736211861"
     },
     "user_tz": 300
    },
    "id": "wV6-sWL3KX4Q"
   },
   "outputs": [],
   "source": [
    "#more than 30% of data has genre as [], imputing them with mode value will deviate the data so we have removed those values\n",
    "wgenres_df = wgenres_df.withColumn('genres', when(col('genres') == '[]', None).otherwise(col('genres')))\n",
    "wgenres_df = wgenres_df.dropna(subset=['genres'])"
   ]
  },
  {
   "cell_type": "code",
   "execution_count": null,
   "metadata": {
    "executionInfo": {
     "elapsed": 38930,
     "status": "aborted",
     "timestamp": 1607761692879,
     "user": {
      "displayName": "Vidushi Mishra",
      "photoUrl": "",
      "userId": "10528386041736211861"
     },
     "user_tz": 300
    },
    "id": "lyY8R8HmK2vp"
   },
   "outputs": [],
   "source": [
    "wgenres_df = wgenres_df.dropDuplicates()\n",
    "types = [fn.dataType for fn in wgenres_df.schema.fields]\n",
    "types"
   ]
  },
  {
   "cell_type": "code",
   "execution_count": null,
   "metadata": {
    "executionInfo": {
     "elapsed": 38926,
     "status": "aborted",
     "timestamp": 1607761692879,
     "user": {
      "displayName": "Vidushi Mishra",
      "photoUrl": "",
      "userId": "10528386041736211861"
     },
     "user_tz": 300
    },
    "id": "JJCEP4yMLMne"
   },
   "outputs": [],
   "source": [
    "wgenres_df = wgenres_df.withColumn(\"acousticness\",wgenres_df[\"acousticness\"].cast(\"float\"))\n",
    "wgenres_df = wgenres_df.withColumn(\"danceability\",wgenres_df[\"danceability\"].cast(\"float\"))\n",
    "wgenres_df = wgenres_df.withColumn(\"energy\",wgenres_df[\"energy\"].cast(\"float\"))\n",
    "wgenres_df = wgenres_df.withColumn(\"instrumentalness\",wgenres_df[\"instrumentalness\"].cast(\"float\"))\n",
    "wgenres_df = wgenres_df.withColumn(\"liveness\",wgenres_df[\"liveness\"].cast(\"float\"))\n",
    "wgenres_df = wgenres_df.withColumn(\"loudness\",wgenres_df[\"loudness\"].cast(\"float\"))\n",
    "wgenres_df = wgenres_df.withColumn(\"mode\",wgenres_df[\"mode\"].cast(\"float\"))\n",
    "wgenres_df = wgenres_df.withColumn(\"popularity\",wgenres_df[\"popularity\"].cast(\"float\"))\n",
    "wgenres_df = wgenres_df.withColumn(\"speechiness\",wgenres_df[\"speechiness\"].cast(\"float\"))\n",
    "wgenres_df = wgenres_df.withColumn(\"tempo\",wgenres_df[\"tempo\"].cast(\"float\"))\n",
    "wgenres_df = wgenres_df.withColumn(\"valence\",wgenres_df[\"valence\"].cast(\"float\"))\n",
    "wgenres_df = wgenres_df.withColumn(\"count\",wgenres_df[\"count\"].cast(\"float\"))\n",
    "#wgenres_df = wgenres_df.withColumn(\"duration_min\",wgenres_df[\"duration_min\"].cast(\"float\"))"
   ]
  },
  {
   "cell_type": "markdown",
   "metadata": {
    "id": "ZZjrgp5-apIO"
   },
   "source": [
    "DATA VISUALIZATION:"
   ]
  },
  {
   "cell_type": "code",
   "execution_count": null,
   "metadata": {
    "executionInfo": {
     "elapsed": 38924,
     "status": "aborted",
     "timestamp": 1607761692880,
     "user": {
      "displayName": "Vidushi Mishra",
      "photoUrl": "",
      "userId": "10528386041736211861"
     },
     "user_tz": 300
    },
    "id": "tSF2q1MCVKoP"
   },
   "outputs": [],
   "source": [
    "plt.figure(figsize=(16, 8))\n",
    "sns.set(style=\"whitegrid\")\n",
    "corr = data_df.toPandas().corr()\n",
    "sns.heatmap(corr,annot=True,cmap=\"coolwarm\")"
   ]
  },
  {
   "cell_type": "code",
   "execution_count": null,
   "metadata": {
    "executionInfo": {
     "elapsed": 38921,
     "status": "aborted",
     "timestamp": 1607761692880,
     "user": {
      "displayName": "Vidushi Mishra",
      "photoUrl": "",
      "userId": "10528386041736211861"
     },
     "user_tz": 300
    },
    "id": "qkqzkiidUHZg"
   },
   "outputs": [],
   "source": [
    "plt.figure(figsize=(16, 8))\n",
    "sns.set(style=\"whitegrid\")\n",
    "cols = [\"valence\",\"popularity\",\"acousticness\",\"instrumentalness\",\"speechiness\",\"danceability\" ]\n",
    "sns.pairplot(genres_df.toPandas()[cols], height = 2.5)\n",
    "plt.show();\n",
    "\n"
   ]
  },
  {
   "cell_type": "code",
   "execution_count": null,
   "metadata": {
    "executionInfo": {
     "elapsed": 38918,
     "status": "aborted",
     "timestamp": 1607761692880,
     "user": {
      "displayName": "Vidushi Mishra",
      "photoUrl": "",
      "userId": "10528386041736211861"
     },
     "user_tz": 300
    },
    "id": "qR2msx2M8bi9"
   },
   "outputs": [],
   "source": [
    "\n",
    "x=genres_df.toPandas().sort_values('popularity').tail(10)\n",
    "fig = plt.figure(figsize=(15,4))\n",
    "plt.bar( x['genres'],\n",
    "         x['popularity'],\n",
    "         width=0.5,\n",
    "         color = ['brown','gold'])\n",
    "plt.title('Genres VS Popularity',y=1.1,fontsize=20)\n",
    "plt.xlabel('Genres',fontsize=20)\n",
    "plt.ylabel('Popularity',fontsize=20)\n",
    "plt.xticks(fontsize=20,rotation=45,ha='right')\n",
    "#x.axes.get_xaxis().set_visible(True)"
   ]
  },
  {
   "cell_type": "code",
   "execution_count": null,
   "metadata": {
    "executionInfo": {
     "elapsed": 38916,
     "status": "aborted",
     "timestamp": 1607761692881,
     "user": {
      "displayName": "Vidushi Mishra",
      "photoUrl": "",
      "userId": "10528386041736211861"
     },
     "user_tz": 300
    },
    "id": "Y097u6xIz4Cn"
   },
   "outputs": [],
   "source": [
    "data = genres_df.select(\"genres\")\n",
    "data = data.toPandas()\n",
    "fig = plt.figure(figsize = (10, 10))\n",
    "ax = fig.subplots()\n",
    "data.value_counts()[:10].plot(ax=ax, kind = \"pie\")\n",
    "ax.set_ylabel(\"\")\n",
    "ax.set_title(\"Top 10 most popular genres\")\n",
    "plt.show()"
   ]
  },
  {
   "cell_type": "code",
   "execution_count": null,
   "metadata": {
    "executionInfo": {
     "elapsed": 38913,
     "status": "aborted",
     "timestamp": 1607761692881,
     "user": {
      "displayName": "Vidushi Mishra",
      "photoUrl": "",
      "userId": "10528386041736211861"
     },
     "user_tz": 300
    },
    "id": "26SeAf5xU9HE"
   },
   "outputs": [],
   "source": [
    "plt.figure(figsize=(16, 8))\n",
    "sns.set(style=\"whitegrid\")\n",
    "x = data_df.toPandas().groupby(\"artists\")[\"popularity\"].sum().sort_values(ascending=False).head(10)\n",
    "ax = sns.barplot(x,x.index)\n",
    "ax.set_title('Top Artists with Popularity')\n",
    "ax.set_ylabel('Artists')\n",
    "ax.set_xlabel('Popularity')\n",
    "plt.xticks(rotation = 90)"
   ]
  },
  {
   "cell_type": "code",
   "execution_count": null,
   "metadata": {
    "executionInfo": {
     "elapsed": 38911,
     "status": "aborted",
     "timestamp": 1607761692881,
     "user": {
      "displayName": "Vidushi Mishra",
      "photoUrl": "",
      "userId": "10528386041736211861"
     },
     "user_tz": 300
    },
    "id": "o9Ifjnau3ASK"
   },
   "outputs": [],
   "source": [
    "data = data_df.toPandas()\n",
    "x = data.groupby(\"loudness\")[\"popularity\"].mean().sort_values(ascending=False).head(20).reset_index()\n",
    "\n",
    "plt.figure(figsize=(12,8))\n",
    "sns.pointplot(x[\"loudness\"].values, x['popularity'].values)\n",
    "plt.ylabel('loudness', fontsize=12)\n",
    "plt.xlabel('popularity', fontsize=12)\n",
    "plt.title(\"popularity wise loudness\", fontsize=15)\n",
    "plt.xticks(rotation='vertical')\n",
    "plt.show()"
   ]
  },
  {
   "cell_type": "markdown",
   "metadata": {
    "id": "M1JeAyVTbMx1"
   },
   "source": [
    "TIME ANALYSIS"
   ]
  },
  {
   "cell_type": "code",
   "execution_count": null,
   "metadata": {
    "executionInfo": {
     "elapsed": 38910,
     "status": "aborted",
     "timestamp": 1607761692882,
     "user": {
      "displayName": "Vidushi Mishra",
      "photoUrl": "",
      "userId": "10528386041736211861"
     },
     "user_tz": 300
    },
    "id": "EGAXa0kft0LV"
   },
   "outputs": [],
   "source": [
    "plt.figure(figsize=(16, 8))\n",
    "sns.set(style=\"whitegrid\")\n",
    "x = data_df.toPandas().groupby(\"year\")[\"name\"].count()\n",
    "ax= sns.lineplot(x.index,x)\n",
    "ax.set_title('Count of Tracks added')\n",
    "plt.xlim(1920,2020)\n",
    "ax.set_ylabel('Count')\n",
    "ax.set_xlabel('Year')"
   ]
  },
  {
   "cell_type": "code",
   "execution_count": null,
   "metadata": {
    "executionInfo": {
     "elapsed": 38908,
     "status": "aborted",
     "timestamp": 1607761692882,
     "user": {
      "displayName": "Vidushi Mishra",
      "photoUrl": "",
      "userId": "10528386041736211861"
     },
     "user_tz": 300
    },
    "id": "RF9Qu1eZTLSw"
   },
   "outputs": [],
   "source": [
    "plt.figure(figsize=(16, 8))\n",
    "sns.set(style=\"whitegrid\")\n",
    "columns = [\"acousticness\",\"danceability\",\"speechiness\",\"liveness\",\"valence\"]\n",
    "for col in columns:\n",
    "    x = data_df.toPandas().groupby(\"year\")[col].mean()\n",
    "    ax= sns.lineplot(x=x.index,y=x,label=col)\n",
    "ax.set_title('Audio characteristics over year')\n",
    "plt.xlim(1920,2020)\n",
    "plt.ylim(0,1)\n",
    "ax.set_ylabel('Measure')\n",
    "ax.set_xlabel('Year')"
   ]
  },
  {
   "cell_type": "code",
   "execution_count": null,
   "metadata": {
    "executionInfo": {
     "elapsed": 38906,
     "status": "aborted",
     "timestamp": 1607761692882,
     "user": {
      "displayName": "Vidushi Mishra",
      "photoUrl": "",
      "userId": "10528386041736211861"
     },
     "user_tz": 300
    },
    "id": "26fJ4-H2Qoiy"
   },
   "outputs": [],
   "source": [
    "plt.figure(figsize=(16, 8))\n",
    "sns.set(style=\"whitegrid\")\n",
    "columns = [\"tempo\"]\n",
    "for col in columns:\n",
    "    x = data_df.toPandas().groupby(\"year\")[col].mean()\n",
    "    ax= sns.lineplot(x=x.index,y=x,label=col)\n",
    "ax.set_title('tempo')\n",
    "plt.xlim(1920,2020)\n",
    "plt.ylim(100,125)\n",
    "ax.set_ylabel('Count')\n",
    "ax.set_xlabel('Year')"
   ]
  },
  {
   "cell_type": "code",
   "execution_count": null,
   "metadata": {
    "executionInfo": {
     "elapsed": 38903,
     "status": "aborted",
     "timestamp": 1607761692883,
     "user": {
      "displayName": "Vidushi Mishra",
      "photoUrl": "",
      "userId": "10528386041736211861"
     },
     "user_tz": 300
    },
    "id": "DCCjUvhGiMr2"
   },
   "outputs": [],
   "source": [
    "data1_df= data_df.na.drop(how='any')\n",
    "data1_df\n",
    "data1_df.show()"
   ]
  },
  {
   "cell_type": "code",
   "execution_count": null,
   "metadata": {
    "executionInfo": {
     "elapsed": 38900,
     "status": "aborted",
     "timestamp": 1607761692883,
     "user": {
      "displayName": "Vidushi Mishra",
      "photoUrl": "",
      "userId": "10528386041736211861"
     },
     "user_tz": 300
    },
    "id": "SE388ft6RQRk"
   },
   "outputs": [],
   "source": [
    "types = [fn.dataType for fn in data1_df.schema.fields]\n",
    "types"
   ]
  },
  {
   "cell_type": "code",
   "execution_count": null,
   "metadata": {
    "executionInfo": {
     "elapsed": 38898,
     "status": "aborted",
     "timestamp": 1607761692883,
     "user": {
      "displayName": "Vidushi Mishra",
      "photoUrl": "",
      "userId": "10528386041736211861"
     },
     "user_tz": 300
    },
    "id": "EIxJOFM1RoOl"
   },
   "outputs": [],
   "source": [
    "columns_drop= ['artists','name']\n",
    "data2_df= data1_df.drop(*columns_drop)\n",
    "data2_df= data2_df.withColumnRenamed('popularity','label')\n",
    "data2_df.show()"
   ]
  },
  {
   "cell_type": "markdown",
   "metadata": {
    "id": "mpodiias3zzV"
   },
   "source": [
    "**Linear Regression**"
   ]
  },
  {
   "cell_type": "code",
   "execution_count": null,
   "metadata": {
    "executionInfo": {
     "elapsed": 38897,
     "status": "aborted",
     "timestamp": 1607761692884,
     "user": {
      "displayName": "Vidushi Mishra",
      "photoUrl": "",
      "userId": "10528386041736211861"
     },
     "user_tz": 300
    },
    "id": "zUajsj8yawrM"
   },
   "outputs": [],
   "source": [
    "#vc = VectorAssembler().setInputCols(train.columns[2:]).setOutputCol('f\n",
    "from pyspark.ml.regression import LinearRegression\n",
    "from pyspark.ml import feature\n",
    "from pyspark.ml import clustering\n",
    "from pyspark.ml import Pipeline\n",
    "from pyspark.sql import functions as fn\n",
    "from pyspark.ml.feature import StandardScaler\n",
    "from pyspark.ml.feature import VectorAssembler\n",
    "import requests\n",
    "from pyspark.ml.evaluation import BinaryClassificationEvaluator\n",
    "from pyspark.ml.feature import StringIndexer\n",
    "#Splitting the above transformed data into train and test (75% and 25% respectively)\n",
    "train,test = data2_df.randomSplit([0.75,0.25],seed=40)\n",
    "\n",
    "vc = feature.VectorAssembler(inputCols=['acousticness', 'danceability', 'energy', 'instrumentalness', 'key', 'liveness', 'loudness', 'speechiness', 'tempo', 'valence'], outputCol='features')\n",
    "lin_reg = LinearRegression(featuresCol='features', labelCol='label')\n",
    "pipe_lr = Pipeline(stages=[vc, lin_reg])\n",
    "model1 = pipe_lr.fit(train)\n",
    "#transforming the data \n",
    "model1.transform(test)\n",
    "trainingSummary = model1.stages[-1].summary\n",
    "print(\"RMSE: %f\" % trainingSummary.rootMeanSquaredError)\n",
    "print(\"r2: %f\" % trainingSummary.r2)\n",
    "\n",
    "\n"
   ]
  },
  {
   "cell_type": "code",
   "execution_count": null,
   "metadata": {
    "executionInfo": {
     "elapsed": 38895,
     "status": "aborted",
     "timestamp": 1607761692884,
     "user": {
      "displayName": "Vidushi Mishra",
      "photoUrl": "",
      "userId": "10528386041736211861"
     },
     "user_tz": 300
    },
    "id": "StbAVRy7nq_s"
   },
   "outputs": [],
   "source": [
    "from pyspark.sql.functions import col\n",
    "len(train.columns)\n",
    "\n"
   ]
  },
  {
   "cell_type": "code",
   "execution_count": null,
   "metadata": {
    "executionInfo": {
     "elapsed": 38894,
     "status": "aborted",
     "timestamp": 1607761692885,
     "user": {
      "displayName": "Vidushi Mishra",
      "photoUrl": "",
      "userId": "10528386041736211861"
     },
     "user_tz": 300
    },
    "id": "v90Zyvs8oLTn"
   },
   "outputs": [],
   "source": [
    "test.count()\n",
    "len(test.columns)"
   ]
  },
  {
   "cell_type": "markdown",
   "metadata": {
    "id": "Jh-LjYDKon92"
   },
   "source": [
    "**Random Forest Regression**"
   ]
  },
  {
   "cell_type": "code",
   "execution_count": null,
   "metadata": {
    "executionInfo": {
     "elapsed": 38892,
     "status": "aborted",
     "timestamp": 1607761692885,
     "user": {
      "displayName": "Vidushi Mishra",
      "photoUrl": "",
      "userId": "10528386041736211861"
     },
     "user_tz": 300
    },
    "id": "B2bYAY2ndvZo"
   },
   "outputs": [],
   "source": [
    "from pyspark.ml.classification import RandomForestClassifier\n",
    "from pyspark.ml.feature import StringIndexer, VectorIndexer\n",
    "from pyspark.ml.regression import RandomForestRegressor\n",
    "from pyspark.ml.evaluation import RegressionEvaluator\n",
    "\n",
    "# Automatically identify categorical features, and index them.\n",
    "# Set maxCategories so features with > 4 distinct values are treated as continuous.\n",
    "featureIndexer =\\\n",
    "    VectorIndexer(inputCol=\"features\", outputCol=\"indexedFeatures\", maxCategories=4)\n",
    "# Split the data into training and test sets (30% held out for testing)\n",
    "\n",
    "# Train a RandomForest model.\n",
    "rf = RandomForestRegressor(featuresCol=\"indexedFeatures\")\n",
    "\n",
    "# Chain indexers and forest in a Pipeline\n",
    "pipeline = Pipeline(stages=[vc,featureIndexer, rf])\n",
    "\n",
    "model = pipeline.fit(train)\n",
    "# Make predictions.\n",
    "predictions = model.transform(test)\n",
    "\n",
    "# Select example rows to display.\n",
    "predictions.select(\"prediction\", \"label\", \"features\").show(5)\n",
    "\n",
    "# Select (prediction, true label) and compute test error\n",
    "evaluator = RegressionEvaluator(\n",
    "    labelCol=\"label\", predictionCol=\"prediction\", metricName=\"rmse\")\n",
    "rmse = evaluator.evaluate(predictions)\n",
    "print(\"Root Mean Squared Error (RMSE) on test data = %g\" % rmse)\n",
    "\n",
    "rfModel = model.stages[1]\n",
    "print(rfModel)  # summary only\n",
    "\n"
   ]
  },
  {
   "cell_type": "markdown",
   "metadata": {
    "id": "Tb_es2xl4WRh"
   },
   "source": [
    "**Mean Squared Error of Linear Regression Train/Test Outputs**"
   ]
  },
  {
   "cell_type": "markdown",
   "metadata": {
    "id": "711ymbLw4Ka7"
   },
   "source": []
  },
  {
   "cell_type": "code",
   "execution_count": null,
   "metadata": {
    "executionInfo": {
     "elapsed": 38891,
     "status": "aborted",
     "timestamp": 1607761692885,
     "user": {
      "displayName": "Vidushi Mishra",
      "photoUrl": "",
      "userId": "10528386041736211861"
     },
     "user_tz": 300
    },
    "id": "Hx4MA2NftS2c"
   },
   "outputs": [],
   "source": [
    "\n",
    "\n",
    "train_output = model1.transform(train)\n",
    "test_output = model1.transform(test)\n",
    "#Making use of RegressionEvaluator for predicting the mean square error with the dependent variable as price \n",
    "linear_evaluator = RegressionEvaluator(predictionCol=\"prediction\",metricName=\"mse\",labelCol='label')\n",
    "\n",
    "print('Mean Squared Error for Train data= ',linear_evaluator.evaluate(train_output))\n",
    "print('Mean Squared Error for Test data= ',linear_evaluator.evaluate(test_output))"
   ]
  },
  {
   "cell_type": "markdown",
   "metadata": {
    "id": "q1bkrM2V4TKn"
   },
   "source": [
    "**Cross-Validation**"
   ]
  },
  {
   "cell_type": "code",
   "execution_count": null,
   "metadata": {
    "executionInfo": {
     "elapsed": 38890,
     "status": "aborted",
     "timestamp": 1607761692886,
     "user": {
      "displayName": "Vidushi Mishra",
      "photoUrl": "",
      "userId": "10528386041736211861"
     },
     "user_tz": 300
    },
    "id": "QCPxBeMib4JQ"
   },
   "outputs": [],
   "source": [
    "from pyspark.ml.tuning import  CrossValidator,ParamGridBuilder\n",
    "\n",
    "parmbuild = (ParamGridBuilder().build())\n",
    "crossvalidation = CrossValidator(estimator=pipe_lr,                                     #Applying Cross Validator for evaluating machine learning model\n",
    "                    estimatorParamMaps=parmbuild,\n",
    "                    evaluator=linear_evaluator, numFolds=3,seed=20)                     #3 folds as per the question\n",
    "cv_model = crossvalidation.fit(train)                                                        #Applyinh cross validation on train data \n",
    "avg_train= cv_model.avgMetrics                                                                     #Calculating the average metrics\n",
    "\n",
    "print(\"The Average metrics is \",avg_train)\n"
   ]
  },
  {
   "cell_type": "markdown",
   "metadata": {
    "id": "WqivI76p4ww9"
   },
   "source": [
    "**Features of songs affecting popularity using Linear Regression**"
   ]
  },
  {
   "cell_type": "code",
   "execution_count": null,
   "metadata": {
    "executionInfo": {
     "elapsed": 38888,
     "status": "aborted",
     "timestamp": 1607761692886,
     "user": {
      "displayName": "Vidushi Mishra",
      "photoUrl": "",
      "userId": "10528386041736211861"
     },
     "user_tz": 300
    },
    "id": "nlG4KRNT0O-M"
   },
   "outputs": [],
   "source": [
    "scalar = StandardScaler(inputCol = 'features', outputCol='scaled_features')  \n",
    "inference_pipe = Pipeline(stages=[vc,scalar,lin_reg])   \n",
    "b = inference_pipe.fit(train)\n",
    "value=b.stages[-1].coefficients                \n",
    "coefficient=b.stages[0].getInputCols()       \n",
    "coeff_df=pd.DataFrame(coefficient,columns=['features'])   \n",
    "coeff_df.insert(1,\"value\",value,True) \n",
    "display(coeff_df)"
   ]
  },
  {
   "cell_type": "markdown",
   "metadata": {
    "id": "v_MNOdXJobr0"
   },
   "source": [
    "**Features of songs affecting popularity using Random Forest Regression**"
   ]
  },
  {
   "cell_type": "code",
   "execution_count": null,
   "metadata": {
    "executionInfo": {
     "elapsed": 38886,
     "status": "aborted",
     "timestamp": 1607761692886,
     "user": {
      "displayName": "Vidushi Mishra",
      "photoUrl": "",
      "userId": "10528386041736211861"
     },
     "user_tz": 300
    },
    "id": "2hldIWyWhaPG"
   },
   "outputs": [],
   "source": [
    "scalar = StandardScaler(inputCol = 'indexedFeatures', outputCol='scaled_features')  \n",
    "raf = RandomForestRegressor(featuresCol=\"scaled_features\")\n",
    "\n",
    "in_pipe = Pipeline(stages=[vc,featureIndexer,scalar,raf])   \n",
    "c = in_pipe.fit(train)\n",
    "#value=c.stages[-1].coefficients                \n",
    "coefficient=c.stages[0].getInputCols()       \n",
    "coefficients_df=pd.DataFrame(coefficient,columns=['features'])   \n",
    "coefficients_df.insert(1,\"value\",value,True) \n",
    "display(coefficients_df)"
   ]
  },
  {
   "cell_type": "markdown",
   "metadata": {
    "id": "jBb-yFAo5wyK"
   },
   "source": [
    "**PCA**"
   ]
  },
  {
   "cell_type": "code",
   "execution_count": null,
   "metadata": {
    "executionInfo": {
     "elapsed": 38886,
     "status": "aborted",
     "timestamp": 1607761692887,
     "user": {
      "displayName": "Vidushi Mishra",
      "photoUrl": "",
      "userId": "10528386041736211861"
     },
     "user_tz": 300
    },
    "id": "CZ2IABC5wj-v"
   },
   "outputs": [],
   "source": [
    "\n",
    "vector_assemb = feature.VectorAssembler(inputCols=['acousticness', 'danceability', 'energy', 'instrumentalness', 'key', 'liveness', 'loudness', 'speechiness', 'tempo', 'valence'], outputCol='features')\n",
    "\n",
    "\n",
    "std_scaler= feature.StandardScaler(withMean=True,withStd=False,inputCol='features', outputCol='scaled_features')\n",
    "\n",
    "#norm = feature.Normalizer(inputCol=\"scaled_features\", outputCol=\"norm_features\", p=2.0)\n",
    "\n",
    "#kmeans = clustering.KMeans(k=5, featuresCol='norm_features', predictionCol='kmeans_feat')\n",
    "\n",
    "#PCA \n",
    "pca= feature.PCA(k=10,inputCol='scaled_features', outputCol='scores')\n",
    "\n",
    "#Pipelining\n",
    "pipe_pca_1 = Pipeline(stages=[vector_assemb,std_scaler,pca])\n",
    "fit_model= pipe_pca_1.fit(data1_df)\n",
    "chars_pca_df= fit_model.transform(data1_df)"
   ]
  },
  {
   "cell_type": "code",
   "execution_count": null,
   "metadata": {
    "executionInfo": {
     "elapsed": 38884,
     "status": "aborted",
     "timestamp": 1607761692887,
     "user": {
      "displayName": "Vidushi Mishra",
      "photoUrl": "",
      "userId": "10528386041736211861"
     },
     "user_tz": 300
    },
    "id": "FNKB4LZfy5-7"
   },
   "outputs": [],
   "source": [
    "chars_pca_df.show()"
   ]
  },
  {
   "cell_type": "markdown",
   "metadata": {
    "id": "rBSY6m3aJvC7"
   },
   "source": [
    "**Recommending Songs**"
   ]
  },
  {
   "cell_type": "code",
   "execution_count": null,
   "metadata": {
    "executionInfo": {
     "elapsed": 38883,
     "status": "aborted",
     "timestamp": 1607761692888,
     "user": {
      "displayName": "Vidushi Mishra",
      "photoUrl": "",
      "userId": "10528386041736211861"
     },
     "user_tz": 300
    },
    "id": "NkuPu4fz0mU3"
   },
   "outputs": [],
   "source": [
    "import numpy as np\n",
    "\n",
    "def get_euclidian(c1, c2):\n",
    "      return float(np.sqrt((c1 - c2).T.dot((c1 - c2))))   \n",
    "l2_dist_udf = fn.udf(get_euclidian)\n",
    "spark.sql(\"SET spark.sql.crossJoin.enabled=TRUE\").show()\n",
    "\n",
    "def get_nearest_chars(char,num_nearest_char):\n",
    "        chars_pca_df.where(fn.col('name')==char).select(fn.col(\"scores\").alias('pca_scores')).join(fit_model.transform(data1_df)).\\\n",
    "        withColumn('dist', l2_dist_udf('scores', 'pca_scores')).\\\n",
    "        select(\"name\",\"artists\",\"dist\").\\\n",
    "        orderBy(fn.asc(\"dist\")).\\\n",
    "        show(10, 80) \n",
    "\n"
   ]
  },
  {
   "cell_type": "code",
   "execution_count": null,
   "metadata": {
    "executionInfo": {
     "elapsed": 38881,
     "status": "aborted",
     "timestamp": 1607761692888,
     "user": {
      "displayName": "Vidushi Mishra",
      "photoUrl": "",
      "userId": "10528386041736211861"
     },
     "user_tz": 300
    },
    "id": "ywiJ0JUJ-tNn"
   },
   "outputs": [],
   "source": [
    "print((get_nearest_chars('Well Done',5)))"
   ]
  },
  {
   "cell_type": "markdown",
   "metadata": {
    "id": "1zvp8Yb0J-C4"
   },
   "source": [
    "**Recommending Artists**"
   ]
  },
  {
   "cell_type": "code",
   "execution_count": null,
   "metadata": {
    "executionInfo": {
     "elapsed": 38880,
     "status": "aborted",
     "timestamp": 1607761692888,
     "user": {
      "displayName": "Vidushi Mishra",
      "photoUrl": "",
      "userId": "10528386041736211861"
     },
     "user_tz": 300
    },
    "id": "n0I4H_opFmBw"
   },
   "outputs": [],
   "source": [
    "import numpy as np\n",
    "\n",
    "\n",
    "vector_assem = feature.VectorAssembler(inputCols=['acousticness', 'danceability','duration_min','energy', 'instrumentalness', 'key', 'liveness', 'loudness', 'speechiness', 'tempo', 'valence','popularity','mode','count'], outputCol='art_features')\n",
    "std_scale= feature.StandardScaler(withMean=True,withStd=False,inputCol='art_features', outputCol='scale_features')\n",
    "artist_pca= feature.PCA(k=3, inputCol='scale_features', outputCol='art_scores')\n",
    "pipe_pca_2 = Pipeline(stages=[vector_assem,std_scale,artist_pca])\n",
    "artist_model= pipe_pca_2.fit(artist_df)\n",
    "artist_pca_df= artist_model.transform(artist_df)\n",
    "\n",
    "def get_euclidian2(c1, c2):\n",
    "      return float(np.sqrt((c1 - c2).T.dot((c1 - c2))))   \n",
    "l3_dist_udf = fn.udf(get_euclidian2)\n",
    "spark.sql(\"SET spark.sql.crossJoin.enabled=TRUE\").show()\n",
    "\n",
    "def get_nearest_artist(char,num_nearest_char):\n",
    "        artist_pca_df.where(fn.col('artists')==char).select(fn.col(\"art_scores\").alias('artist_pca_scores')).join(artist_model.transform(artist_df)).\\\n",
    "        withColumn('dist', l3_dist_udf('art_scores', 'artist_pca_scores')).\\\n",
    "        select(\"artists\",\"dist\").\\\n",
    "        orderBy(fn.asc(\"dist\")).\\\n",
    "        show(10, 80) "
   ]
  },
  {
   "cell_type": "code",
   "execution_count": null,
   "metadata": {
    "executionInfo": {
     "elapsed": 38878,
     "status": "aborted",
     "timestamp": 1607761692889,
     "user": {
      "displayName": "Vidushi Mishra",
      "photoUrl": "",
      "userId": "10528386041736211861"
     },
     "user_tz": 300
    },
    "id": "6OH3BlfnF_kg"
   },
   "outputs": [],
   "source": [
    "print((get_nearest_artist('John Legend',5)))"
   ]
  },
  {
   "cell_type": "code",
   "execution_count": null,
   "metadata": {
    "executionInfo": {
     "elapsed": 38876,
     "status": "aborted",
     "timestamp": 1607761692889,
     "user": {
      "displayName": "Vidushi Mishra",
      "photoUrl": "",
      "userId": "10528386041736211861"
     },
     "user_tz": 300
    },
    "id": "hp7lz7VNQ2-A"
   },
   "outputs": [],
   "source": [
    "import matplotlib.pyplot as plt\n",
    "import numpy as np\n",
    "plt.figure()\n",
    "explained_var = fit_model.stages[-1].explainedVariance\n",
    "plt.plot(np.arange(1, len(explained_var)+1), explained_var)\n",
    "plt.title(\"Scree Plot\")\n",
    "plt.xlabel(\"Principal Component\")\n",
    "plt.ylabel(\"Proportion Variance Explained\")\n",
    "cum_sum = np.cumsum(explained_var)\n"
   ]
  },
  {
   "cell_type": "code",
   "execution_count": null,
   "metadata": {
    "executionInfo": {
     "elapsed": 38874,
     "status": "aborted",
     "timestamp": 1607761692889,
     "user": {
      "displayName": "Vidushi Mishra",
      "photoUrl": "",
      "userId": "10528386041736211861"
     },
     "user_tz": 300
    },
    "id": "6TaU_OkkYYSo"
   },
   "outputs": [],
   "source": [
    "from pyspark.ml.clustering import KMeans\n",
    "from pyspark.ml.evaluation import ClusteringEvaluator\n",
    "\n",
    "silhouette_scores = []\n",
    "\n",
    "\n",
    "kmeans = KMeans(featuresCol='scores')\n",
    "evaluator = ClusteringEvaluator(featuresCol='scores')\n",
    "for k in range(2,7):\n",
    "  fit_k = kmeans.setK(k).fit(chars_pca_df)\n",
    "  predictions= fit_k.transform(chars_pca_df)\n",
    "  silhouette = evaluator.evaluate(predictions)\n",
    "  print(\"Silhouette score\"+ str(silhouette),k)\n",
    "  silhouette_scores.append([k,silhouette])\n",
    "\n",
    "centers = fit_k.clusterCenters()\n",
    "print(\"Cluster Centers: \")\n",
    "for center in centers:\n",
    "    print(center)"
   ]
  },
  {
   "cell_type": "code",
   "execution_count": null,
   "metadata": {
    "executionInfo": {
     "elapsed": 38873,
     "status": "aborted",
     "timestamp": 1607761692890,
     "user": {
      "displayName": "Vidushi Mishra",
      "photoUrl": "",
      "userId": "10528386041736211861"
     },
     "user_tz": 300
    },
    "id": "pcsKR8zNfk1T"
   },
   "outputs": [],
   "source": [
    "plt.plot(*zip(*silhouette_scores))\n",
    "plt.xlabel('k',fontsize=14)\n",
    "plt.ylabel('silhouette scores',fontsize=14)\n",
    "plt.title('silhoutte scores vs k',y=1)"
   ]
  },
  {
   "cell_type": "code",
   "execution_count": null,
   "metadata": {
    "executionInfo": {
     "elapsed": 38872,
     "status": "aborted",
     "timestamp": 1607761692890,
     "user": {
      "displayName": "Vidushi Mishra",
      "photoUrl": "",
      "userId": "10528386041736211861"
     },
     "user_tz": 300
    },
    "id": "nR5L4zAPl6vN"
   },
   "outputs": [],
   "source": [
    "from pyspark.ml.functions import vector_to_array as vca\n",
    "\n",
    "df_kmeans = kmeans.setK(4).fit(chars_pca_df).transform(chars_pca_df)\n",
    "silhouette = evaluator.evaluate(df_kmeans)\n",
    "print(\"Silhouette score = \" + str(silhouette))\n",
    "df_kmeans.limit(10).toPandas()\n",
    "predict_df = df_kmeans.withColumn('scores',vca('scores')).select([fn.col('scores')[0],fn.col('scores')[1],'prediction']).toPandas()\n",
    "\n",
    "fig, ax = plt.subplots(1,1, figsize =(8,6))\n",
    "scatter= ax.scatter(predict_df['scores[0]'],predict_df['scores[1]'] ,c = predict_df.prediction,cmap = 'viridis',alpha=0.5)\n",
    "plt.title('PC1 vs PC2',y=1)\n",
    "plt.xlabel('PC1',fontsize=14)\n",
    "plt.ylabel('PC2',fontsize=14)\n",
    "ax.legend(*scatter.legend_elements(), loc='upper left', title='Kth cluster')"
   ]
  }
 ],
 "metadata": {
  "colab": {
   "collapsed_sections": [],
   "name": "Group 16 Project .ipynb",
   "provenance": []
  },
  "kernelspec": {
   "display_name": "Python 3",
   "language": "python",
   "name": "python3"
  },
  "language_info": {
   "codemirror_mode": {
    "name": "ipython",
    "version": 3
   },
   "file_extension": ".py",
   "mimetype": "text/x-python",
   "name": "python",
   "nbconvert_exporter": "python",
   "pygments_lexer": "ipython3",
   "version": "3.6.11"
  }
 },
 "nbformat": 4,
 "nbformat_minor": 1
}
